{
 "cells": [
  {
   "cell_type": "code",
   "execution_count": 1,
   "metadata": {},
   "outputs": [],
   "source": [
    "import pandas as pd\n",
    "from jikanpy import Jikan\n",
    "import csv as csv\n",
    "import time as time\n",
    "import numpy as np\n",
    "import matplotlib.pyplot as plt\n",
    "import math"
   ]
  },
  {
   "cell_type": "code",
   "execution_count": 2,
   "metadata": {},
   "outputs": [
    {
     "name": "stdout",
     "output_type": "stream",
     "text": [
      "Enter your username: paktastic\n"
     ]
    }
   ],
   "source": [
    "username = input(\"Enter your username: \")"
   ]
  },
  {
   "cell_type": "code",
   "execution_count": 3,
   "metadata": {},
   "outputs": [],
   "source": [
    "jikan = Jikan()"
   ]
  },
  {
   "cell_type": "code",
   "execution_count": 4,
   "metadata": {},
   "outputs": [
    {
     "data": {
      "text/plain": [
       "221"
      ]
     },
     "execution_count": 4,
     "metadata": {},
     "output_type": "execute_result"
    }
   ],
   "source": [
    "jikan.user(username= username)['anime_stats']['completed']"
   ]
  },
  {
   "cell_type": "code",
   "execution_count": 5,
   "metadata": {
    "scrolled": true
   },
   "outputs": [],
   "source": [
    "completed = jikan.user(username= username)['anime_stats']['completed']"
   ]
  },
  {
   "cell_type": "code",
   "execution_count": 6,
   "metadata": {},
   "outputs": [],
   "source": [
    "animetitlelist = []\n",
    "animescorelist = []\n",
    "animeidlist = []\n",
    "avgtitlelist = []\n",
    "avgscorelist = []\n"
   ]
  },
  {
   "cell_type": "code",
   "execution_count": 7,
   "metadata": {},
   "outputs": [],
   "source": [
    "for i in range (1+math.ceil(completed /300)):\n",
    "    a=jikan.user(username= username, request = 'animelist',argument = 'completed', page = i +1)\n",
    "    time.sleep(2)\n",
    "    animescorelen = len(a['anime'])\n",
    "    for j in range(animescorelen):\n",
    "        animetitlelist.append(a['anime'][j]['title'])\n",
    "        animescorelist.append(a['anime'][j]['score'])\n",
    "        animeidlist.append(a['anime'][j]['mal_id'])"
   ]
  },
  {
   "cell_type": "code",
   "execution_count": 8,
   "metadata": {},
   "outputs": [],
   "source": [
    "d = {'Anime title': animetitlelist, 'anime score': animescorelist, 'mal id': animeidlist}"
   ]
  },
  {
   "cell_type": "code",
   "execution_count": 9,
   "metadata": {},
   "outputs": [],
   "source": [
    "df = pd.DataFrame(data=d)"
   ]
  },
  {
   "cell_type": "code",
   "execution_count": 10,
   "metadata": {},
   "outputs": [
    {
     "name": "stdout",
     "output_type": "stream",
     "text": [
      "221 left\n",
      "220 left\n",
      "219 left\n",
      "218 left\n",
      "217 left\n",
      "216 left\n",
      "215 left\n",
      "214 left\n",
      "213 left\n",
      "212 left\n",
      "211 left\n",
      "210 left\n",
      "209 left\n",
      "208 left\n",
      "207 left\n",
      "206 left\n",
      "205 left\n",
      "204 left\n",
      "203 left\n",
      "202 left\n",
      "201 left\n",
      "200 left\n",
      "199 left\n",
      "198 left\n",
      "197 left\n",
      "196 left\n",
      "195 left\n",
      "194 left\n",
      "193 left\n",
      "192 left\n",
      "191 left\n",
      "190 left\n",
      "189 left\n",
      "188 left\n",
      "187 left\n",
      "186 left\n",
      "185 left\n",
      "184 left\n",
      "183 left\n",
      "182 left\n",
      "181 left\n",
      "180 left\n",
      "179 left\n",
      "178 left\n",
      "177 left\n",
      "176 left\n",
      "175 left\n",
      "174 left\n",
      "173 left\n",
      "172 left\n",
      "171 left\n",
      "170 left\n",
      "169 left\n",
      "168 left\n",
      "167 left\n",
      "166 left\n",
      "165 left\n",
      "164 left\n",
      "163 left\n",
      "162 left\n",
      "161 left\n",
      "160 left\n",
      "159 left\n",
      "158 left\n",
      "157 left\n",
      "156 left\n",
      "155 left\n",
      "154 left\n",
      "153 left\n",
      "152 left\n",
      "151 left\n",
      "150 left\n",
      "149 left\n",
      "148 left\n",
      "147 left\n",
      "146 left\n",
      "145 left\n",
      "144 left\n",
      "143 left\n",
      "142 left\n",
      "141 left\n",
      "140 left\n",
      "139 left\n",
      "138 left\n",
      "137 left\n",
      "136 left\n",
      "135 left\n",
      "134 left\n",
      "133 left\n",
      "132 left\n",
      "131 left\n",
      "130 left\n",
      "129 left\n",
      "128 left\n",
      "127 left\n",
      "126 left\n",
      "125 left\n",
      "124 left\n",
      "123 left\n",
      "122 left\n",
      "121 left\n",
      "120 left\n",
      "119 left\n",
      "118 left\n",
      "117 left\n",
      "116 left\n",
      "115 left\n",
      "114 left\n",
      "113 left\n",
      "112 left\n",
      "111 left\n",
      "110 left\n",
      "109 left\n",
      "108 left\n",
      "107 left\n",
      "106 left\n",
      "105 left\n",
      "104 left\n",
      "103 left\n",
      "102 left\n",
      "101 left\n",
      "100 left\n",
      "99 left\n",
      "98 left\n",
      "97 left\n",
      "96 left\n",
      "95 left\n",
      "94 left\n",
      "93 left\n",
      "92 left\n",
      "91 left\n",
      "90 left\n",
      "89 left\n",
      "88 left\n",
      "87 left\n",
      "86 left\n",
      "85 left\n",
      "84 left\n",
      "83 left\n",
      "82 left\n",
      "81 left\n",
      "80 left\n",
      "79 left\n",
      "78 left\n",
      "77 left\n",
      "76 left\n",
      "75 left\n",
      "74 left\n",
      "73 left\n",
      "72 left\n",
      "71 left\n",
      "70 left\n",
      "69 left\n",
      "68 left\n",
      "67 left\n",
      "66 left\n",
      "65 left\n",
      "64 left\n",
      "63 left\n",
      "62 left\n",
      "61 left\n",
      "60 left\n",
      "59 left\n",
      "58 left\n",
      "57 left\n",
      "56 left\n",
      "55 left\n",
      "54 left\n",
      "53 left\n",
      "52 left\n",
      "51 left\n",
      "50 left\n",
      "49 left\n",
      "48 left\n",
      "47 left\n",
      "46 left\n",
      "45 left\n",
      "44 left\n",
      "43 left\n",
      "42 left\n",
      "41 left\n",
      "40 left\n",
      "39 left\n",
      "38 left\n",
      "37 left\n",
      "36 left\n",
      "35 left\n",
      "34 left\n",
      "33 left\n",
      "32 left\n",
      "31 left\n",
      "30 left\n",
      "29 left\n",
      "28 left\n",
      "27 left\n",
      "26 left\n",
      "25 left\n",
      "24 left\n",
      "23 left\n",
      "22 left\n",
      "21 left\n",
      "20 left\n",
      "19 left\n",
      "18 left\n",
      "17 left\n",
      "16 left\n",
      "15 left\n",
      "14 left\n",
      "13 left\n",
      "12 left\n",
      "11 left\n",
      "10 left\n",
      "9 left\n",
      "8 left\n",
      "7 left\n",
      "6 left\n",
      "5 left\n",
      "4 left\n",
      "3 left\n",
      "2 left\n",
      "1 left\n"
     ]
    }
   ],
   "source": [
    "animelistlen = len(animetitlelist) #sleep(2) used for testing to see if all records are loaded. Sometimes if sleep is too short it skips a record\n",
    "for i in range(animelistlen):\n",
    "    try:\n",
    "    ##    avgtitlelist.append(jikan.search('anime',animeidlist[i])['results'][0]['title'])\n",
    "    ##    time.sleep(2)\n",
    "        avgscorelist.append(jikan.anime(animeidlist[i])['score'])\n",
    "        time.sleep(2)\n",
    "        print(str(len(animetitlelist) - i)+' left' )\n",
    "    except Exception:\n",
    "    \n",
    "       \n",
    "        pass\n",
    "    "
   ]
  },
  {
   "cell_type": "code",
   "execution_count": 11,
   "metadata": {},
   "outputs": [],
   "source": [
    "df['avg score'] = avgscorelist"
   ]
  },
  {
   "cell_type": "code",
   "execution_count": 12,
   "metadata": {},
   "outputs": [],
   "source": [
    "pd.set_option('display.max_rows', 1000)"
   ]
  },
  {
   "cell_type": "code",
   "execution_count": 13,
   "metadata": {},
   "outputs": [],
   "source": [
    "avgdf = df"
   ]
  },
  {
   "cell_type": "code",
   "execution_count": 14,
   "metadata": {},
   "outputs": [],
   "source": [
    "avgdf['Score_diff'] = avgdf['avg score'] - avgdf['anime score']"
   ]
  },
  {
   "cell_type": "code",
   "execution_count": 15,
   "metadata": {},
   "outputs": [],
   "source": [
    "cleanavgdf1 = avgdf[avgdf['avg score'] != 'NaN']"
   ]
  },
  {
   "cell_type": "code",
   "execution_count": 16,
   "metadata": {},
   "outputs": [
    {
     "data": {
      "text/plain": [
       "221"
      ]
     },
     "execution_count": 16,
     "metadata": {},
     "output_type": "execute_result"
    }
   ],
   "source": [
    "avgdf[avgdf['avg score'] != 'NaN']\n",
    "len(avgdf)"
   ]
  },
  {
   "cell_type": "code",
   "execution_count": 17,
   "metadata": {},
   "outputs": [],
   "source": [
    "cleanavgdf1.replace([\"NaN\", 'NaT'], np.nan, inplace = True)\n",
    "missingdf = cleanavgdf1[cleanavgdf1.isnull().any(axis=1)]\n",
    "cleanavgdf1 = cleanavgdf1.dropna()"
   ]
  },
  {
   "cell_type": "code",
   "execution_count": 18,
   "metadata": {},
   "outputs": [],
   "source": [
    "finalcleandf = cleanavgdf1.loc[cleanavgdf1['anime score'] > 0]\n",
    "  "
   ]
  },
  {
   "cell_type": "code",
   "execution_count": 19,
   "metadata": {},
   "outputs": [],
   "source": [
    "finalcleandf.to_csv(username + 'data', sep='\\t')"
   ]
  },
  {
   "cell_type": "code",
   "execution_count": 20,
   "metadata": {},
   "outputs": [],
   "source": [
    "userdistlist = finalcleandf['anime score'].to_numpy()"
   ]
  },
  {
   "cell_type": "code",
   "execution_count": 21,
   "metadata": {},
   "outputs": [],
   "source": [
    "test = finalcleandf.sort_values('anime score', ascending = False).reset_index(drop=True)"
   ]
  },
  {
   "cell_type": "code",
   "execution_count": 39,
   "metadata": {
    "scrolled": true
   },
   "outputs": [
    {
     "data": {
      "image/png": "[encoded data removed]",
      "text/plain": [
       "<Figure size 432x288 with 1 Axes>"
      ]
     },
     "metadata": {
      "needs_background": "light"
     },
     "output_type": "display_data"
    }
   ],
   "source": [
    "uniquescore = np.unique(userdistlist)\n",
    "uniquescore = uniquescore.sort()\n",
    "scoredis = finalcleandf['anime score'].to_numpy()\n",
    "dist= plt.hist(scoredis, density=True, bins=6)#change bin to uunique scoredistributions\n",
    "plt.ylabel('anime watched')\n",
    "plt.xlabel('score diff');\n",
    "plt.title(username +'\\'s score histogram')\n",
    "plt.show()"
   ]
  },
  {
   "cell_type": "code",
   "execution_count": 23,
   "metadata": {
    "scrolled": false
   },
   "outputs": [
    {
     "data": {
      "text/html": [
       "<div>\n",
       "<style scoped>\n",
       "    .dataframe tbody tr th:only-of-type {\n",
       "        vertical-align: middle;\n",
       "    }\n",
       "\n",
       "    .dataframe tbody tr th {\n",
       "        vertical-align: top;\n",
       "    }\n",
       "\n",
       "    .dataframe thead th {\n",
       "        text-align: right;\n",
       "    }\n",
       "</style>\n",
       "<table border=\"1\" class=\"dataframe\">\n",
       "  <thead>\n",
       "    <tr style=\"text-align: right;\">\n",
       "      <th></th>\n",
       "      <th>Anime title</th>\n",
       "      <th>anime score</th>\n",
       "      <th>mal id</th>\n",
       "      <th>avg score</th>\n",
       "      <th>Score_diff</th>\n",
       "    </tr>\n",
       "  </thead>\n",
       "  <tbody>\n",
       "    <tr>\n",
       "      <th>202</th>\n",
       "      <td>Sword Art Online</td>\n",
       "      <td>4</td>\n",
       "      <td>11757</td>\n",
       "      <td>7.22</td>\n",
       "      <td>3.22</td>\n",
       "    </tr>\n",
       "    <tr>\n",
       "      <th>3</th>\n",
       "      <td>Accel World</td>\n",
       "      <td>5</td>\n",
       "      <td>11759</td>\n",
       "      <td>7.29</td>\n",
       "      <td>2.29</td>\n",
       "    </tr>\n",
       "    <tr>\n",
       "      <th>46</th>\n",
       "      <td>Dragon Ball GT</td>\n",
       "      <td>5</td>\n",
       "      <td>225</td>\n",
       "      <td>6.46</td>\n",
       "      <td>1.46</td>\n",
       "    </tr>\n",
       "    <tr>\n",
       "      <th>66</th>\n",
       "      <td>Elfen Lied</td>\n",
       "      <td>6</td>\n",
       "      <td>226</td>\n",
       "      <td>7.54</td>\n",
       "      <td>1.54</td>\n",
       "    </tr>\n",
       "    <tr>\n",
       "      <th>106</th>\n",
       "      <td>High School DxD New</td>\n",
       "      <td>6</td>\n",
       "      <td>15451</td>\n",
       "      <td>7.51</td>\n",
       "      <td>1.51</td>\n",
       "    </tr>\n",
       "    <tr>\n",
       "      <th>110</th>\n",
       "      <td>I My Me! Strawberry Eggs</td>\n",
       "      <td>6</td>\n",
       "      <td>509</td>\n",
       "      <td>6.79</td>\n",
       "      <td>0.79</td>\n",
       "    </tr>\n",
       "    <tr>\n",
       "      <th>6</th>\n",
       "      <td>Ansatsu Kyoushitsu</td>\n",
       "      <td>7</td>\n",
       "      <td>24833</td>\n",
       "      <td>8.11</td>\n",
       "      <td>1.11</td>\n",
       "    </tr>\n",
       "    <tr>\n",
       "      <th>12</th>\n",
       "      <td>Beelzebub</td>\n",
       "      <td>7</td>\n",
       "      <td>9513</td>\n",
       "      <td>7.89</td>\n",
       "      <td>0.89</td>\n",
       "    </tr>\n",
       "    <tr>\n",
       "      <th>16</th>\n",
       "      <td>Black Lagoon: The Second Barrage</td>\n",
       "      <td>7</td>\n",
       "      <td>1519</td>\n",
       "      <td>8.18</td>\n",
       "      <td>1.18</td>\n",
       "    </tr>\n",
       "    <tr>\n",
       "      <th>17</th>\n",
       "      <td>Blend S</td>\n",
       "      <td>7</td>\n",
       "      <td>34618</td>\n",
       "      <td>7.33</td>\n",
       "      <td>0.33</td>\n",
       "    </tr>\n",
       "  </tbody>\n",
       "</table>\n",
       "</div>"
      ],
      "text/plain": [
       "                          Anime title  anime score  mal id  avg score  \\\n",
       "202                  Sword Art Online            4   11757       7.22   \n",
       "3                         Accel World            5   11759       7.29   \n",
       "46                     Dragon Ball GT            5     225       6.46   \n",
       "66                         Elfen Lied            6     226       7.54   \n",
       "106               High School DxD New            6   15451       7.51   \n",
       "110          I My Me! Strawberry Eggs            6     509       6.79   \n",
       "6                  Ansatsu Kyoushitsu            7   24833       8.11   \n",
       "12                          Beelzebub            7    9513       7.89   \n",
       "16   Black Lagoon: The Second Barrage            7    1519       8.18   \n",
       "17                            Blend S            7   34618       7.33   \n",
       "\n",
       "     Score_diff  \n",
       "202        3.22  \n",
       "3          2.29  \n",
       "46         1.46  \n",
       "66         1.54  \n",
       "106        1.51  \n",
       "110        0.79  \n",
       "6          1.11  \n",
       "12         0.89  \n",
       "16         1.18  \n",
       "17         0.33  "
      ]
     },
     "execution_count": 23,
     "metadata": {},
     "output_type": "execute_result"
    }
   ],
   "source": [
    "finalcleandf.nsmallest(10,'anime score' , keep='first')"
   ]
  },
  {
   "cell_type": "code",
   "execution_count": 24,
   "metadata": {},
   "outputs": [
    {
     "data": {
      "text/html": [
       "<div>\n",
       "<style scoped>\n",
       "    .dataframe tbody tr th:only-of-type {\n",
       "        vertical-align: middle;\n",
       "    }\n",
       "\n",
       "    .dataframe tbody tr th {\n",
       "        vertical-align: top;\n",
       "    }\n",
       "\n",
       "    .dataframe thead th {\n",
       "        text-align: right;\n",
       "    }\n",
       "</style>\n",
       "<table border=\"1\" class=\"dataframe\">\n",
       "  <thead>\n",
       "    <tr style=\"text-align: right;\">\n",
       "      <th></th>\n",
       "      <th>Anime title</th>\n",
       "      <th>anime score</th>\n",
       "      <th>mal id</th>\n",
       "      <th>avg score</th>\n",
       "      <th>Score_diff</th>\n",
       "    </tr>\n",
       "  </thead>\n",
       "  <tbody>\n",
       "    <tr>\n",
       "      <th>202</th>\n",
       "      <td>Sword Art Online</td>\n",
       "      <td>4</td>\n",
       "      <td>11757</td>\n",
       "      <td>7.22</td>\n",
       "      <td>3.22</td>\n",
       "    </tr>\n",
       "    <tr>\n",
       "      <th>3</th>\n",
       "      <td>Accel World</td>\n",
       "      <td>5</td>\n",
       "      <td>11759</td>\n",
       "      <td>7.29</td>\n",
       "      <td>2.29</td>\n",
       "    </tr>\n",
       "    <tr>\n",
       "      <th>35</th>\n",
       "      <td>Cowboy Bebop</td>\n",
       "      <td>7</td>\n",
       "      <td>1</td>\n",
       "      <td>8.77</td>\n",
       "      <td>1.77</td>\n",
       "    </tr>\n",
       "    <tr>\n",
       "      <th>66</th>\n",
       "      <td>Elfen Lied</td>\n",
       "      <td>6</td>\n",
       "      <td>226</td>\n",
       "      <td>7.54</td>\n",
       "      <td>1.54</td>\n",
       "    </tr>\n",
       "    <tr>\n",
       "      <th>106</th>\n",
       "      <td>High School DxD New</td>\n",
       "      <td>6</td>\n",
       "      <td>15451</td>\n",
       "      <td>7.51</td>\n",
       "      <td>1.51</td>\n",
       "    </tr>\n",
       "    <tr>\n",
       "      <th>184</th>\n",
       "      <td>Samurai Champloo</td>\n",
       "      <td>7</td>\n",
       "      <td>205</td>\n",
       "      <td>8.50</td>\n",
       "      <td>1.50</td>\n",
       "    </tr>\n",
       "    <tr>\n",
       "      <th>46</th>\n",
       "      <td>Dragon Ball GT</td>\n",
       "      <td>5</td>\n",
       "      <td>225</td>\n",
       "      <td>6.46</td>\n",
       "      <td>1.46</td>\n",
       "    </tr>\n",
       "    <tr>\n",
       "      <th>140</th>\n",
       "      <td>Kuroko no Basket 3rd Season</td>\n",
       "      <td>7</td>\n",
       "      <td>24415</td>\n",
       "      <td>8.32</td>\n",
       "      <td>1.32</td>\n",
       "    </tr>\n",
       "    <tr>\n",
       "      <th>166</th>\n",
       "      <td>No Game No Life: Zero</td>\n",
       "      <td>7</td>\n",
       "      <td>33674</td>\n",
       "      <td>8.27</td>\n",
       "      <td>1.27</td>\n",
       "    </tr>\n",
       "    <tr>\n",
       "      <th>139</th>\n",
       "      <td>Kuroko no Basket 2nd Season</td>\n",
       "      <td>7</td>\n",
       "      <td>16894</td>\n",
       "      <td>8.26</td>\n",
       "      <td>1.26</td>\n",
       "    </tr>\n",
       "  </tbody>\n",
       "</table>\n",
       "</div>"
      ],
      "text/plain": [
       "                     Anime title  anime score  mal id  avg score  Score_diff\n",
       "202             Sword Art Online            4   11757       7.22        3.22\n",
       "3                    Accel World            5   11759       7.29        2.29\n",
       "35                  Cowboy Bebop            7       1       8.77        1.77\n",
       "66                    Elfen Lied            6     226       7.54        1.54\n",
       "106          High School DxD New            6   15451       7.51        1.51\n",
       "184             Samurai Champloo            7     205       8.50        1.50\n",
       "46                Dragon Ball GT            5     225       6.46        1.46\n",
       "140  Kuroko no Basket 3rd Season            7   24415       8.32        1.32\n",
       "166        No Game No Life: Zero            7   33674       8.27        1.27\n",
       "139  Kuroko no Basket 2nd Season            7   16894       8.26        1.26"
      ]
     },
     "execution_count": 24,
     "metadata": {},
     "output_type": "execute_result"
    }
   ],
   "source": [
    "finalcleandf.nlargest(10,'Score_diff' , keep='first')"
   ]
  },
  {
   "cell_type": "code",
   "execution_count": 25,
   "metadata": {},
   "outputs": [],
   "source": [
    "residuals = finalcleandf['Score_diff'].to_numpy()"
   ]
  },
  {
   "cell_type": "code",
   "execution_count": 26,
   "metadata": {},
   "outputs": [
    {
     "data": {
      "text/plain": [
       "Text(0.5, 1.0, \"paktastic's difference histogram\")"
      ]
     },
     "execution_count": 26,
     "metadata": {},
     "output_type": "execute_result"
    },
    {
     "data": {
      "image/png": "[encoded data removed]",
      "text/plain": [
       "<Figure size 432x288 with 1 Axes>"
      ]
     },
     "metadata": {
      "needs_background": "light"
     },
     "output_type": "display_data"
    }
   ],
   "source": [
    "plt.hist(residuals, density=False, bins=25) \n",
    "plt.ylabel('anime watched')\n",
    "plt.xlabel('score diff');\n",
    "plt.title(username +'\\'s difference histogram')"
   ]
  },
  {
   "cell_type": "code",
   "execution_count": 27,
   "metadata": {},
   "outputs": [
    {
     "data": {
      "text/plain": [
       "-0.038725490196078495"
      ]
     },
     "execution_count": 27,
     "metadata": {},
     "output_type": "execute_result"
    }
   ],
   "source": [
    "sum(residuals)/len(residuals)"
   ]
  },
  {
   "cell_type": "code",
   "execution_count": 28,
   "metadata": {},
   "outputs": [
    {
     "data": {
      "text/plain": [
       "0.7612685125327195"
      ]
     },
     "execution_count": 28,
     "metadata": {},
     "output_type": "execute_result"
    }
   ],
   "source": [
    "np.std(residuals)"
   ]
  },
  {
   "cell_type": "code",
   "execution_count": null,
   "metadata": {},
   "outputs": [],
   "source": []
  }
 ],
 "metadata": {
  "kernelspec": {
   "display_name": "Python 3",
   "language": "python",
   "name": "python3"
  },
  "language_info": {
   "codemirror_mode": {
    "name": "ipython",
    "version": 3
   },
   "file_extension": ".py",
   "mimetype": "text/x-python",
   "name": "python",
   "nbconvert_exporter": "python",
   "pygments_lexer": "ipython3",
   "version": "3.8.5"
  }
 },
 "nbformat": 4,
 "nbformat_minor": 4
}
